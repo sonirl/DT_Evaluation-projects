{
 "cells": [
  {
   "cell_type": "markdown",
   "metadata": {},
   "source": [
    "# ABOUT THE DATA"
   ]
  },
  {
   "cell_type": "markdown",
   "metadata": {},
   "source": [
    "This data set is a part of the Heart Disease Data Set (the part obtained from the V.A. Medical Center, Long Beach and Cleveland Clinic Foundation), using a subset of 14 attributes. The task is to detect the presence of heart disease in the patient. It is integer valued from 0 (no presence) to 4.\n",
    "\n",
    "The attributes are explained below:\n",
    "\n",
    "1 - age: The person's age in years\n",
    "\n",
    "2 - sex: The person's sex (1 = male, 0 = female)\n",
    " \n",
    "3 - cp: The chest pain experienced (Value 1: typical angina, Value 2: atypical angina, Value 3: non-anginal pain, Value 4: asymptomatic)\n",
    "\n",
    "4 - trestbps: The person's resting blood pressure (mm Hg on admission to the hospital)\n",
    "\n",
    "5 - chol: The person's cholesterol measurement in mg/dl\n",
    "\n",
    "6 - fbs: The person's fasting blood sugar (> 120 mg/dl, 1 = true; 0 = false) \n",
    "\n",
    "7 - restecg: Resting electrocardiographic measurement (0 = normal, 1 = having ST-T wave abnormality, 2 = showing probable or definite left ventricular hypertrophy by Estes' criteria)\n",
    "\n",
    "8 - thalach: The person's maximum heart rate achieved\n",
    "\n",
    "9- exang: Exercise induced angina (1 = yes; 0 = no)\n",
    "\n",
    "10 - oldpeak: ST depression induced by exercise relative to rest ('ST' relates to positions on the ECG plot.)\n",
    "\n",
    "11 - slope: the slope of the peak exercise ST segment (Value 1: upsloping, Value 2: flat, Value 3: downsloping)\n",
    "\n",
    "12 - ca: The number of major vessels (0-3)\n",
    "\n",
    "13 - thal: A blood disorder called thalassemia (3 = normal; 6 = fixed defect; 7 = reversable defect)\n",
    "\n",
    "14 - target (Disease yes = 1, Disease no = 2"
   ]
  },
  {
   "cell_type": "markdown",
   "metadata": {},
   "source": [
    "# Loading the Libraries"
   ]
  },
  {
   "cell_type": "code",
   "execution_count": 2,
   "metadata": {},
   "outputs": [],
   "source": [
    "import pandas as pd\n",
    "import numpy as np\n",
    "import matplotlib.pyplot as plt\n",
    "import seaborn as sns\n",
    "import warnings\n",
    "warnings.filterwarnings('ignore')"
   ]
  },
  {
   "cell_type": "code",
   "execution_count": null,
   "metadata": {},
   "outputs": [],
   "source": []
  },
  {
   "cell_type": "code",
   "execution_count": 3,
   "metadata": {},
   "outputs": [
    {
     "data": {
      "text/html": [
       "<div>\n",
       "<style scoped>\n",
       "    .dataframe tbody tr th:only-of-type {\n",
       "        vertical-align: middle;\n",
       "    }\n",
       "\n",
       "    .dataframe tbody tr th {\n",
       "        vertical-align: top;\n",
       "    }\n",
       "\n",
       "    .dataframe thead th {\n",
       "        text-align: right;\n",
       "    }\n",
       "</style>\n",
       "<table border=\"1\" class=\"dataframe\">\n",
       "  <thead>\n",
       "    <tr style=\"text-align: right;\">\n",
       "      <th></th>\n",
       "      <th>age</th>\n",
       "      <th>sex</th>\n",
       "      <th>cp</th>\n",
       "      <th>trestbps</th>\n",
       "      <th>chol</th>\n",
       "      <th>fbs</th>\n",
       "      <th>restecg</th>\n",
       "      <th>thalach</th>\n",
       "      <th>exang</th>\n",
       "      <th>oldpeak</th>\n",
       "      <th>slope</th>\n",
       "      <th>ca</th>\n",
       "      <th>thal</th>\n",
       "      <th>target</th>\n",
       "    </tr>\n",
       "  </thead>\n",
       "  <tbody>\n",
       "    <tr>\n",
       "      <th>0</th>\n",
       "      <td>63</td>\n",
       "      <td>1</td>\n",
       "      <td>3</td>\n",
       "      <td>145</td>\n",
       "      <td>233</td>\n",
       "      <td>1</td>\n",
       "      <td>0</td>\n",
       "      <td>150</td>\n",
       "      <td>0</td>\n",
       "      <td>2.3</td>\n",
       "      <td>0</td>\n",
       "      <td>0</td>\n",
       "      <td>1</td>\n",
       "      <td>1</td>\n",
       "    </tr>\n",
       "    <tr>\n",
       "      <th>1</th>\n",
       "      <td>37</td>\n",
       "      <td>1</td>\n",
       "      <td>2</td>\n",
       "      <td>130</td>\n",
       "      <td>250</td>\n",
       "      <td>0</td>\n",
       "      <td>1</td>\n",
       "      <td>187</td>\n",
       "      <td>0</td>\n",
       "      <td>3.5</td>\n",
       "      <td>0</td>\n",
       "      <td>0</td>\n",
       "      <td>2</td>\n",
       "      <td>1</td>\n",
       "    </tr>\n",
       "    <tr>\n",
       "      <th>2</th>\n",
       "      <td>41</td>\n",
       "      <td>0</td>\n",
       "      <td>1</td>\n",
       "      <td>130</td>\n",
       "      <td>204</td>\n",
       "      <td>0</td>\n",
       "      <td>0</td>\n",
       "      <td>172</td>\n",
       "      <td>0</td>\n",
       "      <td>1.4</td>\n",
       "      <td>2</td>\n",
       "      <td>0</td>\n",
       "      <td>2</td>\n",
       "      <td>1</td>\n",
       "    </tr>\n",
       "    <tr>\n",
       "      <th>3</th>\n",
       "      <td>56</td>\n",
       "      <td>1</td>\n",
       "      <td>1</td>\n",
       "      <td>120</td>\n",
       "      <td>236</td>\n",
       "      <td>0</td>\n",
       "      <td>1</td>\n",
       "      <td>178</td>\n",
       "      <td>0</td>\n",
       "      <td>0.8</td>\n",
       "      <td>2</td>\n",
       "      <td>0</td>\n",
       "      <td>2</td>\n",
       "      <td>1</td>\n",
       "    </tr>\n",
       "    <tr>\n",
       "      <th>4</th>\n",
       "      <td>57</td>\n",
       "      <td>0</td>\n",
       "      <td>0</td>\n",
       "      <td>120</td>\n",
       "      <td>354</td>\n",
       "      <td>0</td>\n",
       "      <td>1</td>\n",
       "      <td>163</td>\n",
       "      <td>1</td>\n",
       "      <td>0.6</td>\n",
       "      <td>2</td>\n",
       "      <td>0</td>\n",
       "      <td>2</td>\n",
       "      <td>1</td>\n",
       "    </tr>\n",
       "  </tbody>\n",
       "</table>\n",
       "</div>"
      ],
      "text/plain": [
       "   age  sex  cp  trestbps  chol  fbs  restecg  thalach  exang  oldpeak  slope  \\\n",
       "0   63    1   3       145   233    1        0      150      0      2.3      0   \n",
       "1   37    1   2       130   250    0        1      187      0      3.5      0   \n",
       "2   41    0   1       130   204    0        0      172      0      1.4      2   \n",
       "3   56    1   1       120   236    0        1      178      0      0.8      2   \n",
       "4   57    0   0       120   354    0        1      163      1      0.6      2   \n",
       "\n",
       "   ca  thal  target  \n",
       "0   0     1       1  \n",
       "1   0     2       1  \n",
       "2   0     2       1  \n",
       "3   0     2       1  \n",
       "4   0     2       1  "
      ]
     },
     "execution_count": 3,
     "metadata": {},
     "output_type": "execute_result"
    }
   ],
   "source": [
    "#Loading data set\n",
    "data = pd.read_csv('heart.csv')\n",
    "data.head()"
   ]
  },
  {
   "cell_type": "code",
   "execution_count": 4,
   "metadata": {},
   "outputs": [
    {
     "name": "stdout",
     "output_type": "stream",
     "text": [
      "<class 'pandas.core.frame.DataFrame'>\n",
      "RangeIndex: 303 entries, 0 to 302\n",
      "Data columns (total 14 columns):\n",
      " #   Column    Non-Null Count  Dtype  \n",
      "---  ------    --------------  -----  \n",
      " 0   age       303 non-null    int64  \n",
      " 1   sex       303 non-null    int64  \n",
      " 2   cp        303 non-null    int64  \n",
      " 3   trestbps  303 non-null    int64  \n",
      " 4   chol      303 non-null    int64  \n",
      " 5   fbs       303 non-null    int64  \n",
      " 6   restecg   303 non-null    int64  \n",
      " 7   thalach   303 non-null    int64  \n",
      " 8   exang     303 non-null    int64  \n",
      " 9   oldpeak   303 non-null    float64\n",
      " 10  slope     303 non-null    int64  \n",
      " 11  ca        303 non-null    int64  \n",
      " 12  thal      303 non-null    int64  \n",
      " 13  target    303 non-null    int64  \n",
      "dtypes: float64(1), int64(13)\n",
      "memory usage: 33.3 KB\n"
     ]
    }
   ],
   "source": [
    "data.info()"
   ]
  },
  {
   "cell_type": "markdown",
   "metadata": {},
   "source": [
    "Here we can see that our whole data is numeric in nature. Every feature is numeric"
   ]
  },
  {
   "cell_type": "code",
   "execution_count": 5,
   "metadata": {},
   "outputs": [
    {
     "data": {
      "text/html": [
       "<div>\n",
       "<style scoped>\n",
       "    .dataframe tbody tr th:only-of-type {\n",
       "        vertical-align: middle;\n",
       "    }\n",
       "\n",
       "    .dataframe tbody tr th {\n",
       "        vertical-align: top;\n",
       "    }\n",
       "\n",
       "    .dataframe thead th {\n",
       "        text-align: right;\n",
       "    }\n",
       "</style>\n",
       "<table border=\"1\" class=\"dataframe\">\n",
       "  <thead>\n",
       "    <tr style=\"text-align: right;\">\n",
       "      <th></th>\n",
       "      <th>age</th>\n",
       "      <th>sex</th>\n",
       "      <th>cp</th>\n",
       "      <th>trestbps</th>\n",
       "      <th>chol</th>\n",
       "      <th>fbs</th>\n",
       "      <th>restecg</th>\n",
       "      <th>thalach</th>\n",
       "      <th>exang</th>\n",
       "      <th>oldpeak</th>\n",
       "      <th>slope</th>\n",
       "      <th>ca</th>\n",
       "      <th>thal</th>\n",
       "      <th>target</th>\n",
       "    </tr>\n",
       "  </thead>\n",
       "  <tbody>\n",
       "    <tr>\n",
       "      <th>count</th>\n",
       "      <td>303.000000</td>\n",
       "      <td>303.000000</td>\n",
       "      <td>303.000000</td>\n",
       "      <td>303.000000</td>\n",
       "      <td>303.000000</td>\n",
       "      <td>303.000000</td>\n",
       "      <td>303.000000</td>\n",
       "      <td>303.000000</td>\n",
       "      <td>303.000000</td>\n",
       "      <td>303.000000</td>\n",
       "      <td>303.000000</td>\n",
       "      <td>303.000000</td>\n",
       "      <td>303.000000</td>\n",
       "      <td>303.000000</td>\n",
       "    </tr>\n",
       "    <tr>\n",
       "      <th>mean</th>\n",
       "      <td>54.366337</td>\n",
       "      <td>0.683168</td>\n",
       "      <td>0.966997</td>\n",
       "      <td>131.623762</td>\n",
       "      <td>246.264026</td>\n",
       "      <td>0.148515</td>\n",
       "      <td>0.528053</td>\n",
       "      <td>149.646865</td>\n",
       "      <td>0.326733</td>\n",
       "      <td>1.039604</td>\n",
       "      <td>1.399340</td>\n",
       "      <td>0.729373</td>\n",
       "      <td>2.313531</td>\n",
       "      <td>0.544554</td>\n",
       "    </tr>\n",
       "    <tr>\n",
       "      <th>std</th>\n",
       "      <td>9.082101</td>\n",
       "      <td>0.466011</td>\n",
       "      <td>1.032052</td>\n",
       "      <td>17.538143</td>\n",
       "      <td>51.830751</td>\n",
       "      <td>0.356198</td>\n",
       "      <td>0.525860</td>\n",
       "      <td>22.905161</td>\n",
       "      <td>0.469794</td>\n",
       "      <td>1.161075</td>\n",
       "      <td>0.616226</td>\n",
       "      <td>1.022606</td>\n",
       "      <td>0.612277</td>\n",
       "      <td>0.498835</td>\n",
       "    </tr>\n",
       "    <tr>\n",
       "      <th>min</th>\n",
       "      <td>29.000000</td>\n",
       "      <td>0.000000</td>\n",
       "      <td>0.000000</td>\n",
       "      <td>94.000000</td>\n",
       "      <td>126.000000</td>\n",
       "      <td>0.000000</td>\n",
       "      <td>0.000000</td>\n",
       "      <td>71.000000</td>\n",
       "      <td>0.000000</td>\n",
       "      <td>0.000000</td>\n",
       "      <td>0.000000</td>\n",
       "      <td>0.000000</td>\n",
       "      <td>0.000000</td>\n",
       "      <td>0.000000</td>\n",
       "    </tr>\n",
       "    <tr>\n",
       "      <th>25%</th>\n",
       "      <td>47.500000</td>\n",
       "      <td>0.000000</td>\n",
       "      <td>0.000000</td>\n",
       "      <td>120.000000</td>\n",
       "      <td>211.000000</td>\n",
       "      <td>0.000000</td>\n",
       "      <td>0.000000</td>\n",
       "      <td>133.500000</td>\n",
       "      <td>0.000000</td>\n",
       "      <td>0.000000</td>\n",
       "      <td>1.000000</td>\n",
       "      <td>0.000000</td>\n",
       "      <td>2.000000</td>\n",
       "      <td>0.000000</td>\n",
       "    </tr>\n",
       "    <tr>\n",
       "      <th>50%</th>\n",
       "      <td>55.000000</td>\n",
       "      <td>1.000000</td>\n",
       "      <td>1.000000</td>\n",
       "      <td>130.000000</td>\n",
       "      <td>240.000000</td>\n",
       "      <td>0.000000</td>\n",
       "      <td>1.000000</td>\n",
       "      <td>153.000000</td>\n",
       "      <td>0.000000</td>\n",
       "      <td>0.800000</td>\n",
       "      <td>1.000000</td>\n",
       "      <td>0.000000</td>\n",
       "      <td>2.000000</td>\n",
       "      <td>1.000000</td>\n",
       "    </tr>\n",
       "    <tr>\n",
       "      <th>75%</th>\n",
       "      <td>61.000000</td>\n",
       "      <td>1.000000</td>\n",
       "      <td>2.000000</td>\n",
       "      <td>140.000000</td>\n",
       "      <td>274.500000</td>\n",
       "      <td>0.000000</td>\n",
       "      <td>1.000000</td>\n",
       "      <td>166.000000</td>\n",
       "      <td>1.000000</td>\n",
       "      <td>1.600000</td>\n",
       "      <td>2.000000</td>\n",
       "      <td>1.000000</td>\n",
       "      <td>3.000000</td>\n",
       "      <td>1.000000</td>\n",
       "    </tr>\n",
       "    <tr>\n",
       "      <th>max</th>\n",
       "      <td>77.000000</td>\n",
       "      <td>1.000000</td>\n",
       "      <td>3.000000</td>\n",
       "      <td>200.000000</td>\n",
       "      <td>564.000000</td>\n",
       "      <td>1.000000</td>\n",
       "      <td>2.000000</td>\n",
       "      <td>202.000000</td>\n",
       "      <td>1.000000</td>\n",
       "      <td>6.200000</td>\n",
       "      <td>2.000000</td>\n",
       "      <td>4.000000</td>\n",
       "      <td>3.000000</td>\n",
       "      <td>1.000000</td>\n",
       "    </tr>\n",
       "  </tbody>\n",
       "</table>\n",
       "</div>"
      ],
      "text/plain": [
       "              age         sex          cp    trestbps        chol         fbs  \\\n",
       "count  303.000000  303.000000  303.000000  303.000000  303.000000  303.000000   \n",
       "mean    54.366337    0.683168    0.966997  131.623762  246.264026    0.148515   \n",
       "std      9.082101    0.466011    1.032052   17.538143   51.830751    0.356198   \n",
       "min     29.000000    0.000000    0.000000   94.000000  126.000000    0.000000   \n",
       "25%     47.500000    0.000000    0.000000  120.000000  211.000000    0.000000   \n",
       "50%     55.000000    1.000000    1.000000  130.000000  240.000000    0.000000   \n",
       "75%     61.000000    1.000000    2.000000  140.000000  274.500000    0.000000   \n",
       "max     77.000000    1.000000    3.000000  200.000000  564.000000    1.000000   \n",
       "\n",
       "          restecg     thalach       exang     oldpeak       slope          ca  \\\n",
       "count  303.000000  303.000000  303.000000  303.000000  303.000000  303.000000   \n",
       "mean     0.528053  149.646865    0.326733    1.039604    1.399340    0.729373   \n",
       "std      0.525860   22.905161    0.469794    1.161075    0.616226    1.022606   \n",
       "min      0.000000   71.000000    0.000000    0.000000    0.000000    0.000000   \n",
       "25%      0.000000  133.500000    0.000000    0.000000    1.000000    0.000000   \n",
       "50%      1.000000  153.000000    0.000000    0.800000    1.000000    0.000000   \n",
       "75%      1.000000  166.000000    1.000000    1.600000    2.000000    1.000000   \n",
       "max      2.000000  202.000000    1.000000    6.200000    2.000000    4.000000   \n",
       "\n",
       "             thal      target  \n",
       "count  303.000000  303.000000  \n",
       "mean     2.313531    0.544554  \n",
       "std      0.612277    0.498835  \n",
       "min      0.000000    0.000000  \n",
       "25%      2.000000    0.000000  \n",
       "50%      2.000000    1.000000  \n",
       "75%      3.000000    1.000000  \n",
       "max      3.000000    1.000000  "
      ]
     },
     "execution_count": 5,
     "metadata": {},
     "output_type": "execute_result"
    }
   ],
   "source": [
    "data.describe()"
   ]
  },
  {
   "cell_type": "markdown",
   "metadata": {},
   "source": [
    "From the above table we can see that:\n",
    "1 - minimum age is 29 , maximum is 77 and the mean age is 54.366337\n",
    "\n",
    "\n",
    "2 - trestbps - this refers to Diastolic blood pressure that  indicates how much pressure your blood is exerting against your artery walls while the heart is resting between beats. The normal range is LESS THAN 80, Elvated Range is LESS THAN 80, \n",
    "HIGH BLOOD PRESSURE Stage 1 is 80 – 89, Stage 2 is 90 OR HIGHER, and HYPERTENSIVE CRISIS is HIGHER THAN 120. We can see that there is Maximum of 200, so it is cleared that many of the patient having HYPERTENSIVE CRISIS.\n",
    "\n",
    "\n",
    "3- Total cholesterol levels less than 200 milligrams per deciliter (mg/dL) are considered desirable for adults. A reading between 200 and 239 mg/dL is considered borderline high and a reading of 240 mg/dL and above is considered high.\n",
    "from the above data we can see that there is a huge diff between 75% and maximum values , it can be possible that there are some Outliers.\n",
    "\n",
    "\n",
    "4 - A fasting blood sugar level less than 100 mg/dL (5.6 mmol/L) is normal. A fasting blood sugar level from 100 to 125 mg/dL (5.6 to 6.9 mmol/L) is considered prediabetes. If it's 126 mg/dL (7 mmol/L) or higher on two separate tests, you have diabetes.\n",
    "\n"
   ]
  },
  {
   "cell_type": "markdown",
   "metadata": {},
   "source": [
    "# MISSING VALUE ANALYSIS"
   ]
  },
  {
   "cell_type": "code",
   "execution_count": 6,
   "metadata": {},
   "outputs": [
    {
     "data": {
      "text/plain": [
       "age         0\n",
       "sex         0\n",
       "cp          0\n",
       "trestbps    0\n",
       "chol        0\n",
       "fbs         0\n",
       "restecg     0\n",
       "thalach     0\n",
       "exang       0\n",
       "oldpeak     0\n",
       "slope       0\n",
       "ca          0\n",
       "thal        0\n",
       "target      0\n",
       "dtype: int64"
      ]
     },
     "execution_count": 6,
     "metadata": {},
     "output_type": "execute_result"
    }
   ],
   "source": [
    "data.isnull().sum()"
   ]
  },
  {
   "cell_type": "markdown",
   "metadata": {},
   "source": [
    "Great, we do not have any missing value present on our data, we will processd with the Univariate analysis."
   ]
  },
  {
   "cell_type": "markdown",
   "metadata": {},
   "source": [
    "# UNIVARIATE ANALYSIS"
   ]
  },
  {
   "cell_type": "code",
   "execution_count": 7,
   "metadata": {},
   "outputs": [],
   "source": [
    "sns.set_context(\"paper\", font_scale = 1, rc = {\"font.size\": 10,\"axes.titlesize\": 15,\"axes.labelsize\": 10}) "
   ]
  },
  {
   "cell_type": "code",
   "execution_count": 8,
   "metadata": {},
   "outputs": [
    {
     "data": {
      "text/plain": [
       "Text(0.5, 0, 'Sex(female = 0, Male = 1)')"
      ]
     },
     "execution_count": 8,
     "metadata": {},
     "output_type": "execute_result"
    },
    {
     "data": {
      "image/png": "[encoded data removed]",
      "text/plain": [
       "<Figure size 432x288 with 1 Axes>"
      ]
     },
     "metadata": {
      "needs_background": "light"
     },
     "output_type": "display_data"
    }
   ],
   "source": [
    "#lets check the count of Male and Female\n",
    "sns.countplot(x='sex',data=data)\n",
    "plt.xlabel('Sex(female = 0, Male = 1)')"
   ]
  },
  {
   "cell_type": "markdown",
   "metadata": {},
   "source": [
    "Number of male are higher than of female in th given data set"
   ]
  },
  {
   "cell_type": "code",
   "execution_count": 9,
   "metadata": {},
   "outputs": [
    {
     "data": {
      "image/png": "[encoded data removed]",
      "text/plain": [
       "<Figure size 576x360 with 1 Axes>"
      ]
     },
     "metadata": {
      "needs_background": "light"
     },
     "output_type": "display_data"
    }
   ],
   "source": [
    "plt.figure(figsize=(8,5))\n",
    "sns.barplot(y = 'age', x = 'sex', hue = 'target',data=data)\n",
    "plt.xlabel('Sex(female = 0, Male = 1)')\n",
    "plt.show()"
   ]
  },
  {
   "cell_type": "markdown",
   "metadata": {},
   "source": [
    "here we can see that the age of females who are suffering from heart disease are older than males"
   ]
  },
  {
   "cell_type": "code",
   "execution_count": null,
   "metadata": {},
   "outputs": [],
   "source": []
  },
  {
   "cell_type": "code",
   "execution_count": 10,
   "metadata": {},
   "outputs": [
    {
     "data": {
      "text/plain": [
       "Text(0.5, 1.0, 'Distribution of Male and Female')"
      ]
     },
     "execution_count": 10,
     "metadata": {},
     "output_type": "execute_result"
    },
    {
     "data": {
      "image/png": "[encoded data removed]",
      "text/plain": [
       "<Figure size 432x288 with 1 Axes>"
      ]
     },
     "metadata": {
      "needs_background": "light"
     },
     "output_type": "display_data"
    }
   ],
   "source": [
    "plt.figure()\n",
    "sns.countplot(hue='target',x='sex',data=data)\n",
    "plt.xlabel(\"Disease(0 = NO, 1 = TRUE))\")\n",
    "plt.ylabel('Frequency of having Disease')\n",
    "plt.title(\"Distribution of Male and Female\")"
   ]
  },
  {
   "cell_type": "markdown",
   "metadata": {},
   "source": [
    "from the above graphs we can see that there are more male in the sample than the female, and male category is having the most number of heart Disease as compared to female"
   ]
  },
  {
   "cell_type": "code",
   "execution_count": 11,
   "metadata": {},
   "outputs": [
    {
     "data": {
      "text/plain": [
       "Text(0.5, 1.0, 'Distribution of Male and Female')"
      ]
     },
     "execution_count": 11,
     "metadata": {},
     "output_type": "execute_result"
    },
    {
     "data": {
      "image/png": "[encoded data removed]",
      "text/plain": [
       "<Figure size 432x288 with 1 Axes>"
      ]
     },
     "metadata": {
      "needs_background": "light"
     },
     "output_type": "display_data"
    }
   ],
   "source": [
    "#checking the age of both male and female\n",
    "plt.figure()\n",
    "sns.barplot(y='age',x='sex',data=data)\n",
    "plt.xlabel(\"Sex(male = 1, female = 0)\")\n",
    "plt.ylabel('Frequency of Age')\n",
    "plt.title(\"Distribution of Male and Female\")"
   ]
  },
  {
   "cell_type": "markdown",
   "metadata": {},
   "source": [
    "Average Age of Female are higher than of Male"
   ]
  },
  {
   "cell_type": "code",
   "execution_count": 12,
   "metadata": {
    "scrolled": false
   },
   "outputs": [
    {
     "data": {
      "image/png": "[encoded data removed]",
      "text/plain": [
       "<Figure size 1008x432 with 1 Axes>"
      ]
     },
     "metadata": {
      "needs_background": "light"
     },
     "output_type": "display_data"
    }
   ],
   "source": [
    "#checking the target frequency, grouped by age of the patient.\n",
    "\n",
    "plt.figure(figsize=(14,6))\n",
    "sns.barplot(x='age',y='target',data=data.groupby('age').mean().reset_index())\n",
    "plt.show()"
   ]
  },
  {
   "cell_type": "markdown",
   "metadata": {},
   "source": [
    "from the above table we can see that patients not only at old age but also at early age can have Heart disease, as we can see that there is high frequency of having disease to the patient aged 29,34,37,41,42,71,74,76.\n",
    "This could be because of their lifestyle, eating habbits and other related causes."
   ]
  },
  {
   "cell_type": "code",
   "execution_count": 13,
   "metadata": {},
   "outputs": [
    {
     "data": {
      "text/plain": [
       "Text(0, 0.5, 'Frequency')"
      ]
     },
     "execution_count": 13,
     "metadata": {},
     "output_type": "execute_result"
    },
    {
     "data": {
      "image/png": "[encoded data removed]",
      "text/plain": [
       "<Figure size 432x288 with 1 Axes>"
      ]
     },
     "metadata": {
      "needs_background": "light"
     },
     "output_type": "display_data"
    }
   ],
   "source": [
    "#checking the frequency of Target \n",
    "sns.countplot(x='target',data=data)\n",
    "plt.xlabel('Heart disease(0=NO, 1=YES)')\n",
    "plt.ylabel('Frequency')"
   ]
  },
  {
   "cell_type": "markdown",
   "metadata": {},
   "source": [
    "From above graph, we can see that the number of patient having heart disease is more"
   ]
  },
  {
   "cell_type": "markdown",
   "metadata": {},
   "source": [
    "# Bivariate Analysis"
   ]
  },
  {
   "cell_type": "code",
   "execution_count": 14,
   "metadata": {},
   "outputs": [
    {
     "data": {
      "text/plain": [
       "<matplotlib.axes._subplots.AxesSubplot at 0x22d6c786648>"
      ]
     },
     "execution_count": 14,
     "metadata": {},
     "output_type": "execute_result"
    },
    {
     "data": {
      "image/png": "[encoded data removed]",
      "text/plain": [
       "<Figure size 432x288 with 1 Axes>"
      ]
     },
     "metadata": {
      "needs_background": "light"
     },
     "output_type": "display_data"
    }
   ],
   "source": [
    "#we will 1st check the relation between age and chest pain.\n",
    "\n",
    "sns.barplot(x='cp',y='age',data=data)"
   ]
  },
  {
   "cell_type": "markdown",
   "metadata": {},
   "source": [
    "From the above graph we can see that any type of chest pain occurs to the patient aged between 50-60 and the chest pain level increase as the age increases"
   ]
  },
  {
   "cell_type": "code",
   "execution_count": 15,
   "metadata": {},
   "outputs": [
    {
     "data": {
      "text/plain": [
       "<matplotlib.axes._subplots.AxesSubplot at 0x22d6c817708>"
      ]
     },
     "execution_count": 15,
     "metadata": {},
     "output_type": "execute_result"
    },
    {
     "data": {
      "image/png": "[encoded data removed]",
      "text/plain": [
       "<Figure size 432x288 with 1 Axes>"
      ]
     },
     "metadata": {
      "needs_background": "light"
     },
     "output_type": "display_data"
    }
   ],
   "source": [
    "sns.barplot(x='cp',y='age',hue='target',data=data)"
   ]
  },
  {
   "cell_type": "code",
   "execution_count": 16,
   "metadata": {},
   "outputs": [
    {
     "data": {
      "text/plain": [
       "<matplotlib.axes._subplots.AxesSubplot at 0x22d6c737a48>"
      ]
     },
     "execution_count": 16,
     "metadata": {},
     "output_type": "execute_result"
    },
    {
     "data": {
      "image/png": "[encoded data removed]",
      "text/plain": [
       "<Figure size 432x288 with 1 Axes>"
      ]
     },
     "metadata": {
      "needs_background": "light"
     },
     "output_type": "display_data"
    }
   ],
   "source": [
    "sns.countplot(x='cp',hue='target',data=data)"
   ]
  },
  {
   "cell_type": "markdown",
   "metadata": {},
   "source": [
    "when the chest pain is 2 it can be seen that the number of patient having disease are more, so it could be possible that if the chest pain level is high there are more chances that the patient might have the disease.\n",
    "chest pain can be considered as an important input for our model building\n"
   ]
  },
  {
   "cell_type": "code",
   "execution_count": 17,
   "metadata": {},
   "outputs": [
    {
     "data": {
      "text/plain": [
       "<matplotlib.axes._subplots.AxesSubplot at 0x22d6c4b4648>"
      ]
     },
     "execution_count": 17,
     "metadata": {},
     "output_type": "execute_result"
    },
    {
     "data": {
      "image/png": "[encoded data removed]",
      "text/plain": [
       "<Figure size 432x288 with 1 Axes>"
      ]
     },
     "metadata": {
      "needs_background": "light"
     },
     "output_type": "display_data"
    }
   ],
   "source": [
    "#checking the relation of resting heart rate\n",
    "\n",
    "sns.scatterplot(x='age',y='trestbps',hue='target',data=data)"
   ]
  },
  {
   "cell_type": "markdown",
   "metadata": {},
   "source": [
    "the pattern here tells that as the age is increasing the resting heart rate is also increasing.\n",
    "from 40 to 65 age the resting heart rate frequency icreases for patient suffering from Disease"
   ]
  },
  {
   "cell_type": "code",
   "execution_count": 18,
   "metadata": {},
   "outputs": [
    {
     "data": {
      "text/plain": [
       "<matplotlib.axes._subplots.AxesSubplot at 0x22d6c48bf08>"
      ]
     },
     "execution_count": 18,
     "metadata": {},
     "output_type": "execute_result"
    },
    {
     "data": {
      "image/png": "[encoded data removed]",
      "text/plain": [
       "<Figure size 432x288 with 1 Axes>"
      ]
     },
     "metadata": {
      "needs_background": "light"
     },
     "output_type": "display_data"
    }
   ],
   "source": [
    "sns.scatterplot(x='target',y='trestbps',data=data)"
   ]
  },
  {
   "cell_type": "markdown",
   "metadata": {},
   "source": [
    "and this graphs tells us that patient with resting heart rate 110 to 160 are more likely to have disease"
   ]
  },
  {
   "cell_type": "code",
   "execution_count": 19,
   "metadata": {},
   "outputs": [
    {
     "data": {
      "image/png": "[encoded data removed]",
      "text/plain": [
       "<Figure size 432x288 with 1 Axes>"
      ]
     },
     "metadata": {
      "needs_background": "light"
     },
     "output_type": "display_data"
    }
   ],
   "source": [
    "plt.scatter(x=data.age[data.target==1], y=data.thalach[(data.target==1)], c=\"red\")\n",
    "plt.scatter(x=data.age[data.target==0], y=data.thalach[(data.target==0)])\n",
    "plt.legend([\"Disease\", \"Not Disease\"])\n",
    "plt.xlabel(\"Age\")\n",
    "plt.ylabel(\"Maximum Heart Rate\")\n",
    "plt.show()"
   ]
  },
  {
   "cell_type": "markdown",
   "metadata": {},
   "source": [
    "Above graphs shows that\n",
    "1- Patient from age 39 to 57 are more likely to have Disease as it can be seen the maximum heart rate is the reason. The Maximum heart rate lies between 140-190, heart rate can be calculated according to the age of the person.\n",
    "to measure maximum heart rate subtract the age of the person from 220.\n",
    "Max heart rate in itself is not an indicator of fitness. "
   ]
  },
  {
   "cell_type": "code",
   "execution_count": 20,
   "metadata": {},
   "outputs": [
    {
     "data": {
      "text/plain": [
       "Text(0.5, 0, 'The Slope of The Peak Exercise ST Segment ')"
      ]
     },
     "execution_count": 20,
     "metadata": {},
     "output_type": "execute_result"
    },
    {
     "data": {
      "image/png": "[encoded data removed]",
      "text/plain": [
       "<Figure size 432x288 with 1 Axes>"
      ]
     },
     "metadata": {
      "needs_background": "light"
     },
     "output_type": "display_data"
    }
   ],
   "source": [
    "#checking the relation between target and slope\n",
    "\n",
    "sns.countplot(x='slope',hue='target',data=data)\n",
    "plt.title('Heart Disease Frequency for Slope')\n",
    "plt.xlabel('The Slope of The Peak Exercise ST Segment ')"
   ]
  },
  {
   "cell_type": "markdown",
   "metadata": {},
   "source": [
    "Higher the number of the solpe of the peak exercise ST segment higher the count of patient having disease."
   ]
  },
  {
   "cell_type": "code",
   "execution_count": 21,
   "metadata": {},
   "outputs": [
    {
     "data": {
      "text/plain": [
       "<matplotlib.axes._subplots.AxesSubplot at 0x22d6c8ac248>"
      ]
     },
     "execution_count": 21,
     "metadata": {},
     "output_type": "execute_result"
    },
    {
     "data": {
      "image/png": "[encoded data removed]",
      "text/plain": [
       "<Figure size 432x288 with 1 Axes>"
      ]
     },
     "metadata": {
      "needs_background": "light"
     },
     "output_type": "display_data"
    }
   ],
   "source": [
    "#checking the relation between age and cholestrol level for both Disease and non disease patient\n",
    "sns.scatterplot(y='age',x='chol',hue='target',data=data)"
   ]
  },
  {
   "cell_type": "markdown",
   "metadata": {},
   "source": [
    "patient having Cholestrol level 190-320 and aged between 40-60 are more likely to have heart Disease.\n",
    "A reading between 200 and 239 mg/dL is considered borderline high and a reading of 240 mg/dL and above is considered high."
   ]
  },
  {
   "cell_type": "code",
   "execution_count": 22,
   "metadata": {},
   "outputs": [
    {
     "data": {
      "image/png": "[encoded data removed]",
      "text/plain": [
       "<Figure size 576x360 with 1 Axes>"
      ]
     },
     "metadata": {
      "needs_background": "light"
     },
     "output_type": "display_data"
    }
   ],
   "source": [
    "#\n",
    "plt.figure(figsize=(8,5))\n",
    "sns.countplot(x='fbs',hue='target',data=data)\n",
    "plt.legend([\"Haven't Disease\", \"Have Disease\"])\n",
    "plt.ylabel('Frequency of Disease or Not')\n",
    "plt.title('Heart Disease Frequency According To FBS')\n",
    "plt.xlabel('FBS - (Fasting Blood Sugar > 120 mg/dl) (1 = true; 0 = false)')\n",
    "plt.show()\n"
   ]
  },
  {
   "cell_type": "markdown",
   "metadata": {},
   "source": [
    "The above graphs shows that number of patient having FBS less than 120 mg/dl are more. \n",
    "A fasting blood sugar level of more than 120 mg/dl is the current threshold for identifying patients with diabetes.\n",
    "\n",
    "In this graph we can confirm that patient with no Diabetes are more than of having Diabetes"
   ]
  },
  {
   "cell_type": "markdown",
   "metadata": {},
   "source": [
    "# Outliers Analysis"
   ]
  },
  {
   "cell_type": "code",
   "execution_count": 23,
   "metadata": {},
   "outputs": [],
   "source": [
    "from scipy.stats import zscore"
   ]
  },
  {
   "cell_type": "code",
   "execution_count": 24,
   "metadata": {},
   "outputs": [
    {
     "name": "stdout",
     "output_type": "stream",
     "text": [
      "[[0.9521966  0.68100522 1.97312292 ... 0.71442887 2.14887271 0.91452919]\n",
      " [1.91531289 0.68100522 1.00257707 ... 0.71442887 0.51292188 0.91452919]\n",
      " [1.47415758 1.46841752 0.03203122 ... 0.71442887 0.51292188 0.91452919]\n",
      " ...\n",
      " [1.50364073 0.68100522 0.93851463 ... 1.24459328 1.12302895 1.09345881]\n",
      " [0.29046364 0.68100522 0.93851463 ... 0.26508221 1.12302895 1.09345881]\n",
      " [0.29046364 1.46841752 0.03203122 ... 0.26508221 0.51292188 1.09345881]]\n"
     ]
    }
   ],
   "source": [
    "z = np.abs(zscore(data))\n",
    "print(z)"
   ]
  },
  {
   "cell_type": "code",
   "execution_count": 25,
   "metadata": {},
   "outputs": [
    {
     "name": "stdout",
     "output_type": "stream",
     "text": [
      "(array([ 28,  48,  85,  92, 158, 163, 164, 204, 220, 221, 223, 246, 248,\n",
      "       251, 272, 281], dtype=int64), array([ 4, 12,  4, 11, 11, 11, 11,  9,  4,  9,  3,  4,  3, 11,  7, 12],\n",
      "      dtype=int64))\n"
     ]
    }
   ],
   "source": [
    "#now setting the threshold limit to 3, the reason being 99% of the data is in 3 standard deviation.\n",
    "\n",
    "threshold = 3\n",
    "print(np.where(z>3))"
   ]
  },
  {
   "cell_type": "code",
   "execution_count": 26,
   "metadata": {},
   "outputs": [
    {
     "data": {
      "text/plain": [
       "(287, 14)"
      ]
     },
     "execution_count": 26,
     "metadata": {},
     "output_type": "execute_result"
    }
   ],
   "source": [
    "data_zout = data[(z<3).all(axis = 1)]\n",
    "data_zout.shape"
   ]
  },
  {
   "cell_type": "code",
   "execution_count": 27,
   "metadata": {},
   "outputs": [
    {
     "name": "stdout",
     "output_type": "stream",
     "text": [
      "Shape of our old data : (303, 14)\n",
      "Shape of our cleaned data : (287, 14)\n"
     ]
    }
   ],
   "source": [
    "print(\"Shape of our old data :\", data.shape)\n",
    "print(\"Shape of our cleaned data :\", data_zout.shape)"
   ]
  },
  {
   "cell_type": "markdown",
   "metadata": {},
   "source": [
    "# CORRELATION METRIX"
   ]
  },
  {
   "cell_type": "code",
   "execution_count": 28,
   "metadata": {},
   "outputs": [
    {
     "data": {
      "text/plain": [
       "<matplotlib.axes._subplots.AxesSubplot at 0x22d6c9e0888>"
      ]
     },
     "execution_count": 28,
     "metadata": {},
     "output_type": "execute_result"
    },
    {
     "data": {
      "image/png": "[encoded data removed]",
      "text/plain": [
       "<Figure size 1008x576 with 2 Axes>"
      ]
     },
     "metadata": {
      "needs_background": "light"
     },
     "output_type": "display_data"
    }
   ],
   "source": [
    "data_cor = data_zout.corr()\n",
    "plt.figure(figsize=(14,8),)\n",
    "sns.heatmap(data_cor,annot=True)"
   ]
  },
  {
   "cell_type": "markdown",
   "metadata": {},
   "source": [
    "the ('chol','fbs','restecg'), are less correlated to Target variable, we can drop these columns, however I will be trying to evaluate using all the factors."
   ]
  },
  {
   "cell_type": "markdown",
   "metadata": {},
   "source": [
    "# CHECKING AND FIXING SKEWNESS"
   ]
  },
  {
   "cell_type": "code",
   "execution_count": 29,
   "metadata": {},
   "outputs": [
    {
     "data": {
      "text/plain": [
       "age        -0.184321\n",
       "sex        -0.825426\n",
       "cp          0.491220\n",
       "trestbps    0.530712\n",
       "chol        0.245591\n",
       "fbs         2.051982\n",
       "restecg     0.155787\n",
       "thalach    -0.473864\n",
       "exang       0.738876\n",
       "oldpeak     0.984256\n",
       "slope      -0.503916\n",
       "ca          1.211037\n",
       "thal       -0.190864\n",
       "target     -0.204199\n",
       "dtype: float64"
      ]
     },
     "execution_count": 29,
     "metadata": {},
     "output_type": "execute_result"
    }
   ],
   "source": [
    "data_zout.skew()"
   ]
  },
  {
   "cell_type": "code",
   "execution_count": 30,
   "metadata": {},
   "outputs": [],
   "source": [
    "for col in data_zout.columns:\n",
    "    if data_zout[col].skew()>0.55:\n",
    "        data_zout[col]=np.log1p(data_zout[col])"
   ]
  },
  {
   "cell_type": "code",
   "execution_count": 31,
   "metadata": {},
   "outputs": [
    {
     "data": {
      "text/plain": [
       "age        -0.184321\n",
       "sex        -0.825426\n",
       "cp          0.491220\n",
       "trestbps    0.530712\n",
       "chol        0.245591\n",
       "fbs         2.051982\n",
       "restecg     0.155787\n",
       "thalach    -0.473864\n",
       "exang       0.738876\n",
       "oldpeak     0.331394\n",
       "slope      -0.503916\n",
       "ca          0.765030\n",
       "thal       -0.190864\n",
       "target     -0.204199\n",
       "dtype: float64"
      ]
     },
     "execution_count": 31,
     "metadata": {},
     "output_type": "execute_result"
    }
   ],
   "source": [
    "data_zout.skew()"
   ]
  },
  {
   "cell_type": "markdown",
   "metadata": {},
   "source": [
    "# Splitting Data into input and output"
   ]
  },
  {
   "cell_type": "code",
   "execution_count": 32,
   "metadata": {},
   "outputs": [
    {
     "data": {
      "text/html": [
       "<div>\n",
       "<style scoped>\n",
       "    .dataframe tbody tr th:only-of-type {\n",
       "        vertical-align: middle;\n",
       "    }\n",
       "\n",
       "    .dataframe tbody tr th {\n",
       "        vertical-align: top;\n",
       "    }\n",
       "\n",
       "    .dataframe thead th {\n",
       "        text-align: right;\n",
       "    }\n",
       "</style>\n",
       "<table border=\"1\" class=\"dataframe\">\n",
       "  <thead>\n",
       "    <tr style=\"text-align: right;\">\n",
       "      <th></th>\n",
       "      <th>age</th>\n",
       "      <th>sex</th>\n",
       "      <th>cp</th>\n",
       "      <th>trestbps</th>\n",
       "      <th>chol</th>\n",
       "      <th>fbs</th>\n",
       "      <th>restecg</th>\n",
       "      <th>thalach</th>\n",
       "      <th>exang</th>\n",
       "      <th>oldpeak</th>\n",
       "      <th>slope</th>\n",
       "      <th>ca</th>\n",
       "      <th>thal</th>\n",
       "    </tr>\n",
       "  </thead>\n",
       "  <tbody>\n",
       "    <tr>\n",
       "      <th>0</th>\n",
       "      <td>63</td>\n",
       "      <td>1</td>\n",
       "      <td>3</td>\n",
       "      <td>145</td>\n",
       "      <td>233</td>\n",
       "      <td>0.693147</td>\n",
       "      <td>0</td>\n",
       "      <td>150</td>\n",
       "      <td>0.000000</td>\n",
       "      <td>1.193922</td>\n",
       "      <td>0</td>\n",
       "      <td>0.0</td>\n",
       "      <td>1</td>\n",
       "    </tr>\n",
       "    <tr>\n",
       "      <th>1</th>\n",
       "      <td>37</td>\n",
       "      <td>1</td>\n",
       "      <td>2</td>\n",
       "      <td>130</td>\n",
       "      <td>250</td>\n",
       "      <td>0.000000</td>\n",
       "      <td>1</td>\n",
       "      <td>187</td>\n",
       "      <td>0.000000</td>\n",
       "      <td>1.504077</td>\n",
       "      <td>0</td>\n",
       "      <td>0.0</td>\n",
       "      <td>2</td>\n",
       "    </tr>\n",
       "    <tr>\n",
       "      <th>2</th>\n",
       "      <td>41</td>\n",
       "      <td>0</td>\n",
       "      <td>1</td>\n",
       "      <td>130</td>\n",
       "      <td>204</td>\n",
       "      <td>0.000000</td>\n",
       "      <td>0</td>\n",
       "      <td>172</td>\n",
       "      <td>0.000000</td>\n",
       "      <td>0.875469</td>\n",
       "      <td>2</td>\n",
       "      <td>0.0</td>\n",
       "      <td>2</td>\n",
       "    </tr>\n",
       "    <tr>\n",
       "      <th>3</th>\n",
       "      <td>56</td>\n",
       "      <td>1</td>\n",
       "      <td>1</td>\n",
       "      <td>120</td>\n",
       "      <td>236</td>\n",
       "      <td>0.000000</td>\n",
       "      <td>1</td>\n",
       "      <td>178</td>\n",
       "      <td>0.000000</td>\n",
       "      <td>0.587787</td>\n",
       "      <td>2</td>\n",
       "      <td>0.0</td>\n",
       "      <td>2</td>\n",
       "    </tr>\n",
       "    <tr>\n",
       "      <th>4</th>\n",
       "      <td>57</td>\n",
       "      <td>0</td>\n",
       "      <td>0</td>\n",
       "      <td>120</td>\n",
       "      <td>354</td>\n",
       "      <td>0.000000</td>\n",
       "      <td>1</td>\n",
       "      <td>163</td>\n",
       "      <td>0.693147</td>\n",
       "      <td>0.470004</td>\n",
       "      <td>2</td>\n",
       "      <td>0.0</td>\n",
       "      <td>2</td>\n",
       "    </tr>\n",
       "  </tbody>\n",
       "</table>\n",
       "</div>"
      ],
      "text/plain": [
       "   age  sex  cp  trestbps  chol       fbs  restecg  thalach     exang  \\\n",
       "0   63    1   3       145   233  0.693147        0      150  0.000000   \n",
       "1   37    1   2       130   250  0.000000        1      187  0.000000   \n",
       "2   41    0   1       130   204  0.000000        0      172  0.000000   \n",
       "3   56    1   1       120   236  0.000000        1      178  0.000000   \n",
       "4   57    0   0       120   354  0.000000        1      163  0.693147   \n",
       "\n",
       "    oldpeak  slope   ca  thal  \n",
       "0  1.193922      0  0.0     1  \n",
       "1  1.504077      0  0.0     2  \n",
       "2  0.875469      2  0.0     2  \n",
       "3  0.587787      2  0.0     2  \n",
       "4  0.470004      2  0.0     2  "
      ]
     },
     "execution_count": 32,
     "metadata": {},
     "output_type": "execute_result"
    }
   ],
   "source": [
    "x = data_zout.drop('target',axis=1)\n",
    "x.head()"
   ]
  },
  {
   "cell_type": "code",
   "execution_count": 33,
   "metadata": {},
   "outputs": [
    {
     "data": {
      "text/plain": [
       "0    1\n",
       "1    1\n",
       "2    1\n",
       "3    1\n",
       "4    1\n",
       "Name: target, dtype: int64"
      ]
     },
     "execution_count": 33,
     "metadata": {},
     "output_type": "execute_result"
    }
   ],
   "source": [
    "y = data_zout['target']\n",
    "y.head()"
   ]
  },
  {
   "cell_type": "code",
   "execution_count": null,
   "metadata": {},
   "outputs": [],
   "source": []
  },
  {
   "cell_type": "code",
   "execution_count": null,
   "metadata": {},
   "outputs": [],
   "source": []
  },
  {
   "cell_type": "markdown",
   "metadata": {},
   "source": [
    "# STANDARD SCALING"
   ]
  },
  {
   "cell_type": "markdown",
   "metadata": {},
   "source": [
    "I will be doing standard scaling on the input features as some of the features like age, trestbps , chol, thalach, these columns have different scales.\n"
   ]
  },
  {
   "cell_type": "code",
   "execution_count": 34,
   "metadata": {},
   "outputs": [],
   "source": [
    "from sklearn.preprocessing import StandardScaler"
   ]
  },
  {
   "cell_type": "code",
   "execution_count": 35,
   "metadata": {},
   "outputs": [],
   "source": [
    "sc = StandardScaler()"
   ]
  },
  {
   "cell_type": "code",
   "execution_count": 36,
   "metadata": {},
   "outputs": [
    {
     "data": {
      "text/html": [
       "<div>\n",
       "<style scoped>\n",
       "    .dataframe tbody tr th:only-of-type {\n",
       "        vertical-align: middle;\n",
       "    }\n",
       "\n",
       "    .dataframe tbody tr th {\n",
       "        vertical-align: top;\n",
       "    }\n",
       "\n",
       "    .dataframe thead th {\n",
       "        text-align: right;\n",
       "    }\n",
       "</style>\n",
       "<table border=\"1\" class=\"dataframe\">\n",
       "  <thead>\n",
       "    <tr style=\"text-align: right;\">\n",
       "      <th></th>\n",
       "      <th>0</th>\n",
       "      <th>1</th>\n",
       "      <th>2</th>\n",
       "      <th>3</th>\n",
       "      <th>4</th>\n",
       "      <th>5</th>\n",
       "      <th>6</th>\n",
       "      <th>7</th>\n",
       "      <th>8</th>\n",
       "      <th>9</th>\n",
       "      <th>10</th>\n",
       "      <th>11</th>\n",
       "      <th>12</th>\n",
       "    </tr>\n",
       "  </thead>\n",
       "  <tbody>\n",
       "    <tr>\n",
       "      <th>0</th>\n",
       "      <td>0.954638</td>\n",
       "      <td>0.670444</td>\n",
       "      <td>1.958231</td>\n",
       "      <td>0.823925</td>\n",
       "      <td>-0.250907</td>\n",
       "      <td>2.449490</td>\n",
       "      <td>-1.013312</td>\n",
       "      <td>0.008668</td>\n",
       "      <td>-0.697887</td>\n",
       "      <td>1.238435</td>\n",
       "      <td>-2.327663</td>\n",
       "      <td>-0.776942</td>\n",
       "      <td>-2.250516</td>\n",
       "    </tr>\n",
       "    <tr>\n",
       "      <th>1</th>\n",
       "      <td>-1.909660</td>\n",
       "      <td>0.670444</td>\n",
       "      <td>0.992574</td>\n",
       "      <td>-0.060392</td>\n",
       "      <td>0.119943</td>\n",
       "      <td>-0.408248</td>\n",
       "      <td>0.887476</td>\n",
       "      <td>1.652290</td>\n",
       "      <td>-0.697887</td>\n",
       "      <td>1.845915</td>\n",
       "      <td>-2.327663</td>\n",
       "      <td>-0.776942</td>\n",
       "      <td>-0.537258</td>\n",
       "    </tr>\n",
       "    <tr>\n",
       "      <th>2</th>\n",
       "      <td>-1.468998</td>\n",
       "      <td>-1.491549</td>\n",
       "      <td>0.026917</td>\n",
       "      <td>-0.060392</td>\n",
       "      <td>-0.883533</td>\n",
       "      <td>-0.408248</td>\n",
       "      <td>-1.013312</td>\n",
       "      <td>0.985957</td>\n",
       "      <td>-0.697887</td>\n",
       "      <td>0.614701</td>\n",
       "      <td>0.971296</td>\n",
       "      <td>-0.776942</td>\n",
       "      <td>-0.537258</td>\n",
       "    </tr>\n",
       "    <tr>\n",
       "      <th>3</th>\n",
       "      <td>0.183481</td>\n",
       "      <td>0.670444</td>\n",
       "      <td>0.026917</td>\n",
       "      <td>-0.649938</td>\n",
       "      <td>-0.185463</td>\n",
       "      <td>-0.408248</td>\n",
       "      <td>0.887476</td>\n",
       "      <td>1.252490</td>\n",
       "      <td>-0.697887</td>\n",
       "      <td>0.051237</td>\n",
       "      <td>0.971296</td>\n",
       "      <td>-0.776942</td>\n",
       "      <td>-0.537258</td>\n",
       "    </tr>\n",
       "    <tr>\n",
       "      <th>4</th>\n",
       "      <td>0.293646</td>\n",
       "      <td>-1.491549</td>\n",
       "      <td>-0.938740</td>\n",
       "      <td>-0.649938</td>\n",
       "      <td>2.388672</td>\n",
       "      <td>-0.408248</td>\n",
       "      <td>0.887476</td>\n",
       "      <td>0.586157</td>\n",
       "      <td>1.432896</td>\n",
       "      <td>-0.179457</td>\n",
       "      <td>0.971296</td>\n",
       "      <td>-0.776942</td>\n",
       "      <td>-0.537258</td>\n",
       "    </tr>\n",
       "  </tbody>\n",
       "</table>\n",
       "</div>"
      ],
      "text/plain": [
       "          0         1         2         3         4         5         6  \\\n",
       "0  0.954638  0.670444  1.958231  0.823925 -0.250907  2.449490 -1.013312   \n",
       "1 -1.909660  0.670444  0.992574 -0.060392  0.119943 -0.408248  0.887476   \n",
       "2 -1.468998 -1.491549  0.026917 -0.060392 -0.883533 -0.408248 -1.013312   \n",
       "3  0.183481  0.670444  0.026917 -0.649938 -0.185463 -0.408248  0.887476   \n",
       "4  0.293646 -1.491549 -0.938740 -0.649938  2.388672 -0.408248  0.887476   \n",
       "\n",
       "          7         8         9        10        11        12  \n",
       "0  0.008668 -0.697887  1.238435 -2.327663 -0.776942 -2.250516  \n",
       "1  1.652290 -0.697887  1.845915 -2.327663 -0.776942 -0.537258  \n",
       "2  0.985957 -0.697887  0.614701  0.971296 -0.776942 -0.537258  \n",
       "3  1.252490 -0.697887  0.051237  0.971296 -0.776942 -0.537258  \n",
       "4  0.586157  1.432896 -0.179457  0.971296 -0.776942 -0.537258  "
      ]
     },
     "execution_count": 36,
     "metadata": {},
     "output_type": "execute_result"
    }
   ],
   "source": [
    "x = sc.fit_transform(x)\n",
    "x = pd.DataFrame(x)\n",
    "x.head()"
   ]
  },
  {
   "cell_type": "code",
   "execution_count": null,
   "metadata": {},
   "outputs": [],
   "source": []
  },
  {
   "cell_type": "markdown",
   "metadata": {},
   "source": [
    "# Importing Models and other Libraries"
   ]
  },
  {
   "cell_type": "code",
   "execution_count": 37,
   "metadata": {},
   "outputs": [],
   "source": [
    "from sklearn.linear_model import LogisticRegression\n",
    "from sklearn.svm import SVC\n",
    "from sklearn.tree import DecisionTreeClassifier\n",
    "from sklearn.neighbors import KNeighborsClassifier\n",
    "from sklearn.ensemble import RandomForestClassifier\n",
    "from sklearn.naive_bayes import GaussianNB\n",
    "from sklearn.metrics import confusion_matrix,accuracy_score,classification_report\n",
    "from sklearn.model_selection import train_test_split,GridSearchCV,cross_val_score"
   ]
  },
  {
   "cell_type": "code",
   "execution_count": null,
   "metadata": {},
   "outputs": [],
   "source": []
  },
  {
   "cell_type": "code",
   "execution_count": 38,
   "metadata": {
    "scrolled": true
   },
   "outputs": [
    {
     "name": "stdout",
     "output_type": "stream",
     "text": [
      "model name = LogisticRegression(C=1.0, class_weight=None, dual=False, fit_intercept=True,\n",
      "                   intercept_scaling=1, l1_ratio=None, max_iter=100,\n",
      "                   multi_class='auto', n_jobs=None, penalty='l2',\n",
      "                   random_state=None, solver='lbfgs', tol=0.0001, verbose=0,\n",
      "                   warm_start=False)\n",
      "Model scores : [0.86206897 0.86206897 0.78947368 0.87719298 0.80701754]\n",
      "Model mean score:  0.8395644283121596\n",
      "Model std score : 0.0346329288649305\n",
      "\n",
      "\n",
      "model name = SVC(C=1.0, break_ties=False, cache_size=200, class_weight=None, coef0=0.0,\n",
      "    decision_function_shape='ovr', degree=3, gamma='scale', kernel='rbf',\n",
      "    max_iter=-1, probability=False, random_state=None, shrinking=True,\n",
      "    tol=0.001, verbose=False)\n",
      "Model scores : [0.84482759 0.87931034 0.8245614  0.85964912 0.78947368]\n",
      "Model mean score:  0.8395644283121596\n",
      "Model std score : 0.030805866524200688\n",
      "\n",
      "\n",
      "model name = DecisionTreeClassifier(ccp_alpha=0.0, class_weight=None, criterion='gini',\n",
      "                       max_depth=None, max_features=None, max_leaf_nodes=None,\n",
      "                       min_impurity_decrease=0.0, min_impurity_split=None,\n",
      "                       min_samples_leaf=1, min_samples_split=2,\n",
      "                       min_weight_fraction_leaf=0.0, presort='deprecated',\n",
      "                       random_state=None, splitter='best')\n",
      "Model scores : [0.75862069 0.74137931 0.75438596 0.64912281 0.75438596]\n",
      "Model mean score:  0.7315789473684211\n",
      "Model std score : 0.04163325142341827\n",
      "\n",
      "\n",
      "model name = KNeighborsClassifier(algorithm='auto', leaf_size=30, metric='minkowski',\n",
      "                     metric_params=None, n_jobs=None, n_neighbors=5, p=2,\n",
      "                     weights='uniform')\n",
      "Model scores : [0.79310345 0.84482759 0.8245614  0.84210526 0.77192982]\n",
      "Model mean score:  0.8153055051421658\n",
      "Model std score : 0.02845991198020826\n",
      "\n",
      "\n",
      "model name = RandomForestClassifier(bootstrap=True, ccp_alpha=0.0, class_weight=None,\n",
      "                       criterion='gini', max_depth=None, max_features='auto',\n",
      "                       max_leaf_nodes=None, max_samples=None,\n",
      "                       min_impurity_decrease=0.0, min_impurity_split=None,\n",
      "                       min_samples_leaf=1, min_samples_split=2,\n",
      "                       min_weight_fraction_leaf=0.0, n_estimators=100,\n",
      "                       n_jobs=None, oob_score=False, random_state=None,\n",
      "                       verbose=0, warm_start=False)\n",
      "Model scores : [0.79310345 0.87931034 0.8245614  0.80701754 0.80701754]\n",
      "Model mean score:  0.8222020568663038\n",
      "Model std score : 0.03024827586110103\n",
      "\n",
      "\n",
      "model name = GaussianNB(priors=None, var_smoothing=1e-09)\n",
      "Model scores : [0.81034483 0.87931034 0.78947368 0.89473684 0.80701754]\n",
      "Model mean score:  0.8361766485178463\n",
      "Model std score : 0.042399328444067116\n",
      "\n",
      "\n"
     ]
    }
   ],
   "source": [
    "#checking cross validation\n",
    "models = [LogisticRegression(),SVC(),DecisionTreeClassifier(),KNeighborsClassifier(),RandomForestClassifier(),\n",
    "         GaussianNB()]\n",
    "\n",
    "for model in models:\n",
    "    print(\"model name =\",model)\n",
    "    model.scores = cross_val_score(model, x, y, cv=5)\n",
    "    print('Model scores :',model.scores)\n",
    "    print('Model mean score: ',model.scores.mean())\n",
    "    print('Model std score :', model.scores.std())\n",
    "    print('\\n')\n",
    "    "
   ]
  },
  {
   "cell_type": "markdown",
   "metadata": {},
   "source": [
    "From above cross validation , Logistic Regression and SVC are performing approx same and better from others, I will use Logistic Regression for my main model"
   ]
  },
  {
   "cell_type": "code",
   "execution_count": 39,
   "metadata": {},
   "outputs": [
    {
     "name": "stdout",
     "output_type": "stream",
     "text": [
      "max r2_score for the given   81 is 0.9157894736842105\n"
     ]
    }
   ],
   "source": [
    "#checking best Random state.\n",
    "max_lr_score = 0\n",
    "for r_state in range(41,100):\n",
    "    X_train,x_test,y_train,y_test= train_test_split(x,y,test_size=.33,random_state=r_state)\n",
    "    lr = LogisticRegression()\n",
    "    lr.fit(X_train,y_train)\n",
    "    lr_pred = lr.predict(x_test)\n",
    "    Accuracy = accuracy_score(y_test,lr_pred)\n",
    "    if Accuracy>max_lr_score:\n",
    "        max_lr_score=Accuracy\n",
    "        final_r_state = r_state\n",
    "        \n",
    "print('max r2_score for the given ','', final_r_state, 'is', max_lr_score)"
   ]
  },
  {
   "cell_type": "markdown",
   "metadata": {},
   "source": [
    "Super!!!!, Getting accuracy of 91% is good.\n",
    "lets check for grid search for parameter tuning of the model"
   ]
  },
  {
   "cell_type": "code",
   "execution_count": 40,
   "metadata": {},
   "outputs": [],
   "source": [
    "#giving the parameter grid for gridsearchCV for Logistic Regression\n",
    "param_grid = {'C': [0.001, 0.01, 0.1, 1, 10, 100, 1000] }"
   ]
  },
  {
   "cell_type": "code",
   "execution_count": 41,
   "metadata": {},
   "outputs": [],
   "source": [
    "grid_search = GridSearchCV(estimator = lr, param_grid = param_grid)"
   ]
  },
  {
   "cell_type": "code",
   "execution_count": 42,
   "metadata": {},
   "outputs": [
    {
     "data": {
      "text/plain": [
       "{'C': 0.1}"
      ]
     },
     "execution_count": 42,
     "metadata": {},
     "output_type": "execute_result"
    }
   ],
   "source": [
    "grid_search.fit(x, y)\n",
    "grid_search.best_params_"
   ]
  },
  {
   "cell_type": "code",
   "execution_count": 43,
   "metadata": {},
   "outputs": [],
   "source": [
    "#creating final model\n",
    "\n",
    "X_train_new,x_test_new,y_train_new,y_test_new= train_test_split(x,y,test_size=.33,random_state=81)\n",
    "\n",
    "lr_new = LogisticRegression(C=0.1)\n"
   ]
  },
  {
   "cell_type": "code",
   "execution_count": 44,
   "metadata": {},
   "outputs": [],
   "source": [
    "lr_model = lr_new.fit(X_train_new,y_train_new)\n",
    "lr_pred_new = lr_new.predict(x_test_new)\n",
    "\n",
    "Accuracy = accuracy_score(y_test_new,lr_pred_new)\n",
    "con_mat = confusion_matrix(y_test_new,lr_pred_new)\n",
    "clas_rprt = classification_report(y_test_new,lr_pred_new)"
   ]
  },
  {
   "cell_type": "code",
   "execution_count": 45,
   "metadata": {},
   "outputs": [
    {
     "name": "stdout",
     "output_type": "stream",
     "text": [
      "Accuracy score of our model is : 0.9052631578947369\n"
     ]
    }
   ],
   "source": [
    "print('Accuracy score of our model is :', Accuracy)"
   ]
  },
  {
   "cell_type": "code",
   "execution_count": 46,
   "metadata": {},
   "outputs": [
    {
     "name": "stdout",
     "output_type": "stream",
     "text": [
      "Confusion metrix of our model is :\n"
     ]
    },
    {
     "data": {
      "text/plain": [
       "array([[37,  7],\n",
       "       [ 2, 49]], dtype=int64)"
      ]
     },
     "execution_count": 46,
     "metadata": {},
     "output_type": "execute_result"
    }
   ],
   "source": [
    "print('Confusion metrix of our model is :')\n",
    "\n",
    "con_mat"
   ]
  },
  {
   "cell_type": "code",
   "execution_count": 47,
   "metadata": {},
   "outputs": [
    {
     "name": "stdout",
     "output_type": "stream",
     "text": [
      "Classification report of our model is:               precision    recall  f1-score   support\n",
      "\n",
      "           0       0.95      0.84      0.89        44\n",
      "           1       0.88      0.96      0.92        51\n",
      "\n",
      "    accuracy                           0.91        95\n",
      "   macro avg       0.91      0.90      0.90        95\n",
      "weighted avg       0.91      0.91      0.90        95\n",
      "\n"
     ]
    }
   ],
   "source": [
    "print('Classification report of our model is:',clas_rprt)\n",
    "\n"
   ]
  },
  {
   "cell_type": "markdown",
   "metadata": {},
   "source": [
    "# AUC_ROC CURVE"
   ]
  },
  {
   "cell_type": "code",
   "execution_count": 48,
   "metadata": {},
   "outputs": [],
   "source": [
    "from sklearn.metrics import auc,roc_auc_score,roc_curve"
   ]
  },
  {
   "cell_type": "code",
   "execution_count": 49,
   "metadata": {},
   "outputs": [],
   "source": [
    "lr_pred_prob = lr_new.predict_proba(x_test_new)"
   ]
  },
  {
   "cell_type": "code",
   "execution_count": 50,
   "metadata": {
    "scrolled": true
   },
   "outputs": [
    {
     "data": {
      "text/plain": [
       "array([[0.71483091, 0.28516909],\n",
       "       [0.54784132, 0.45215868],\n",
       "       [0.0797679 , 0.9202321 ],\n",
       "       [0.14550731, 0.85449269],\n",
       "       [0.05060364, 0.94939636],\n",
       "       [0.14747737, 0.85252263],\n",
       "       [0.10365111, 0.89634889],\n",
       "       [0.9534731 , 0.0465269 ],\n",
       "       [0.93947562, 0.06052438],\n",
       "       [0.10380874, 0.89619126],\n",
       "       [0.78922994, 0.21077006],\n",
       "       [0.34662308, 0.65337692],\n",
       "       [0.48740191, 0.51259809],\n",
       "       [0.59627092, 0.40372908],\n",
       "       [0.93903427, 0.06096573],\n",
       "       [0.72846911, 0.27153089],\n",
       "       [0.86994313, 0.13005687],\n",
       "       [0.38703916, 0.61296084],\n",
       "       [0.88800259, 0.11199741],\n",
       "       [0.27368204, 0.72631796],\n",
       "       [0.83944637, 0.16055363],\n",
       "       [0.96837362, 0.03162638],\n",
       "       [0.31653664, 0.68346336],\n",
       "       [0.17434006, 0.82565994],\n",
       "       [0.28290659, 0.71709341],\n",
       "       [0.83544144, 0.16455856],\n",
       "       [0.07624361, 0.92375639],\n",
       "       [0.8525349 , 0.1474651 ],\n",
       "       [0.91773981, 0.08226019],\n",
       "       [0.1999187 , 0.8000813 ],\n",
       "       [0.04305523, 0.95694477],\n",
       "       [0.69565871, 0.30434129],\n",
       "       [0.35949493, 0.64050507],\n",
       "       [0.224806  , 0.775194  ],\n",
       "       [0.96964343, 0.03035657],\n",
       "       [0.96074924, 0.03925076],\n",
       "       [0.83453231, 0.16546769],\n",
       "       [0.85150507, 0.14849493],\n",
       "       [0.50782976, 0.49217024],\n",
       "       [0.41199235, 0.58800765],\n",
       "       [0.34142794, 0.65857206],\n",
       "       [0.03840382, 0.96159618],\n",
       "       [0.97527978, 0.02472022],\n",
       "       [0.15087262, 0.84912738],\n",
       "       [0.4695575 , 0.5304425 ],\n",
       "       [0.06792683, 0.93207317],\n",
       "       [0.1419884 , 0.8580116 ],\n",
       "       [0.48935199, 0.51064801],\n",
       "       [0.95970248, 0.04029752],\n",
       "       [0.90075042, 0.09924958],\n",
       "       [0.97254166, 0.02745834],\n",
       "       [0.85387855, 0.14612145],\n",
       "       [0.0790668 , 0.9209332 ],\n",
       "       [0.87577846, 0.12422154],\n",
       "       [0.22156479, 0.77843521],\n",
       "       [0.98754871, 0.01245129],\n",
       "       [0.37483161, 0.62516839],\n",
       "       [0.79633358, 0.20366642],\n",
       "       [0.46283503, 0.53716497],\n",
       "       [0.72128311, 0.27871689],\n",
       "       [0.18524258, 0.81475742],\n",
       "       [0.33355388, 0.66644612],\n",
       "       [0.32815608, 0.67184392],\n",
       "       [0.95489891, 0.04510109],\n",
       "       [0.15347982, 0.84652018],\n",
       "       [0.85290267, 0.14709733],\n",
       "       [0.26456656, 0.73543344],\n",
       "       [0.24256402, 0.75743598],\n",
       "       [0.07987817, 0.92012183],\n",
       "       [0.93592204, 0.06407796],\n",
       "       [0.15032992, 0.84967008],\n",
       "       [0.95577916, 0.04422084],\n",
       "       [0.83478644, 0.16521356],\n",
       "       [0.27814687, 0.72185313],\n",
       "       [0.1743608 , 0.8256392 ],\n",
       "       [0.79292036, 0.20707964],\n",
       "       [0.12536095, 0.87463905],\n",
       "       [0.23142813, 0.76857187],\n",
       "       [0.09960714, 0.90039286],\n",
       "       [0.38407738, 0.61592262],\n",
       "       [0.10346168, 0.89653832],\n",
       "       [0.07527239, 0.92472761],\n",
       "       [0.37063667, 0.62936333],\n",
       "       [0.91225097, 0.08774903],\n",
       "       [0.37817073, 0.62182927],\n",
       "       [0.79456508, 0.20543492],\n",
       "       [0.71976586, 0.28023414],\n",
       "       [0.04799664, 0.95200336],\n",
       "       [0.19903284, 0.80096716],\n",
       "       [0.14118705, 0.85881295],\n",
       "       [0.34219285, 0.65780715],\n",
       "       [0.12651936, 0.87348064],\n",
       "       [0.18908727, 0.81091273],\n",
       "       [0.19852117, 0.80147883],\n",
       "       [0.16815384, 0.83184616]])"
      ]
     },
     "execution_count": 50,
     "metadata": {},
     "output_type": "execute_result"
    }
   ],
   "source": [
    "lr_pred_prob"
   ]
  },
  {
   "cell_type": "code",
   "execution_count": 51,
   "metadata": {
    "scrolled": true
   },
   "outputs": [
    {
     "data": {
      "text/plain": [
       "array([0.28516909, 0.45215868, 0.9202321 , 0.85449269, 0.94939636,\n",
       "       0.85252263, 0.89634889, 0.0465269 , 0.06052438, 0.89619126,\n",
       "       0.21077006, 0.65337692, 0.51259809, 0.40372908, 0.06096573,\n",
       "       0.27153089, 0.13005687, 0.61296084, 0.11199741, 0.72631796,\n",
       "       0.16055363, 0.03162638, 0.68346336, 0.82565994, 0.71709341,\n",
       "       0.16455856, 0.92375639, 0.1474651 , 0.08226019, 0.8000813 ,\n",
       "       0.95694477, 0.30434129, 0.64050507, 0.775194  , 0.03035657,\n",
       "       0.03925076, 0.16546769, 0.14849493, 0.49217024, 0.58800765,\n",
       "       0.65857206, 0.96159618, 0.02472022, 0.84912738, 0.5304425 ,\n",
       "       0.93207317, 0.8580116 , 0.51064801, 0.04029752, 0.09924958,\n",
       "       0.02745834, 0.14612145, 0.9209332 , 0.12422154, 0.77843521,\n",
       "       0.01245129, 0.62516839, 0.20366642, 0.53716497, 0.27871689,\n",
       "       0.81475742, 0.66644612, 0.67184392, 0.04510109, 0.84652018,\n",
       "       0.14709733, 0.73543344, 0.75743598, 0.92012183, 0.06407796,\n",
       "       0.84967008, 0.04422084, 0.16521356, 0.72185313, 0.8256392 ,\n",
       "       0.20707964, 0.87463905, 0.76857187, 0.90039286, 0.61592262,\n",
       "       0.89653832, 0.92472761, 0.62936333, 0.08774903, 0.62182927,\n",
       "       0.20543492, 0.28023414, 0.95200336, 0.80096716, 0.85881295,\n",
       "       0.65780715, 0.87348064, 0.81091273, 0.80147883, 0.83184616])"
      ]
     },
     "execution_count": 51,
     "metadata": {},
     "output_type": "execute_result"
    }
   ],
   "source": [
    "#predicting the probability of having one\n",
    "lr_pred_prob = lr_new.predict_proba(x_test_new)[:,1]\n",
    "lr_pred_prob"
   ]
  },
  {
   "cell_type": "code",
   "execution_count": 52,
   "metadata": {},
   "outputs": [],
   "source": [
    "#fpr = false positive rate\n",
    "#tpr = true positive rate\n",
    "#thresholds we set\n",
    "\n",
    "fpr,tpr,thresholds = roc_curve(y_test_new,lr_pred_prob)"
   ]
  },
  {
   "cell_type": "code",
   "execution_count": 53,
   "metadata": {},
   "outputs": [
    {
     "data": {
      "image/png": "[encoded data removed]",
      "text/plain": [
       "<Figure size 432x288 with 1 Axes>"
      ]
     },
     "metadata": {
      "needs_background": "light"
     },
     "output_type": "display_data"
    }
   ],
   "source": [
    "#plotting AUC ROC curve\n",
    "plt.plot([0,1],[0,1],'k--')\n",
    "plt.plot(fpr,tpr,label = 'Logistic Regression')\n",
    "plt.xlabel('False positive rate')\n",
    "plt.ylabel('True positive rate')\n",
    "plt.title('Logistic regression')\n",
    "plt.show()"
   ]
  },
  {
   "cell_type": "code",
   "execution_count": 54,
   "metadata": {},
   "outputs": [
    {
     "data": {
      "text/plain": [
       "array([0, 0, 1, 1, 1, 1, 1, 0, 0, 1, 0, 1, 1, 0, 0, 0, 0, 1, 0, 1, 0, 0,\n",
       "       1, 1, 1, 0, 1, 0, 0, 1, 1, 0, 1, 1, 0, 0, 0, 0, 0, 1, 1, 1, 0, 1,\n",
       "       1, 1, 1, 1, 0, 0, 0, 0, 1, 0, 1, 0, 1, 0, 1, 0, 1, 1, 1, 0, 1, 0,\n",
       "       1, 1, 1, 0, 1, 0, 0, 1, 1, 0, 1, 1, 1, 1, 1, 1, 1, 0, 1, 0, 0, 1,\n",
       "       1, 1, 1, 1, 1, 1, 1], dtype=int64)"
      ]
     },
     "execution_count": 54,
     "metadata": {},
     "output_type": "execute_result"
    }
   ],
   "source": [
    "#saving redicted file into csv format\n",
    "lr_pred_new"
   ]
  },
  {
   "cell_type": "code",
   "execution_count": 55,
   "metadata": {},
   "outputs": [
    {
     "data": {
      "text/html": [
       "<div>\n",
       "<style scoped>\n",
       "    .dataframe tbody tr th:only-of-type {\n",
       "        vertical-align: middle;\n",
       "    }\n",
       "\n",
       "    .dataframe tbody tr th {\n",
       "        vertical-align: top;\n",
       "    }\n",
       "\n",
       "    .dataframe thead th {\n",
       "        text-align: right;\n",
       "    }\n",
       "</style>\n",
       "<table border=\"1\" class=\"dataframe\">\n",
       "  <thead>\n",
       "    <tr style=\"text-align: right;\">\n",
       "      <th></th>\n",
       "      <th>0</th>\n",
       "    </tr>\n",
       "  </thead>\n",
       "  <tbody>\n",
       "    <tr>\n",
       "      <th>0</th>\n",
       "      <td>0</td>\n",
       "    </tr>\n",
       "    <tr>\n",
       "      <th>1</th>\n",
       "      <td>0</td>\n",
       "    </tr>\n",
       "    <tr>\n",
       "      <th>2</th>\n",
       "      <td>1</td>\n",
       "    </tr>\n",
       "    <tr>\n",
       "      <th>3</th>\n",
       "      <td>1</td>\n",
       "    </tr>\n",
       "    <tr>\n",
       "      <th>4</th>\n",
       "      <td>1</td>\n",
       "    </tr>\n",
       "  </tbody>\n",
       "</table>\n",
       "</div>"
      ],
      "text/plain": [
       "   0\n",
       "0  0\n",
       "1  0\n",
       "2  1\n",
       "3  1\n",
       "4  1"
      ]
     },
     "execution_count": 55,
     "metadata": {},
     "output_type": "execute_result"
    }
   ],
   "source": [
    "result = pd.DataFrame(lr_pred_new)\n",
    "result.head()"
   ]
  },
  {
   "cell_type": "code",
   "execution_count": 56,
   "metadata": {},
   "outputs": [],
   "source": [
    "result.index = x_test.index # its important for comparison\n",
    "result.columns = [\"prediction\"]\n",
    "result.to_csv(\"prediction_results.csv\")"
   ]
  },
  {
   "cell_type": "code",
   "execution_count": 57,
   "metadata": {},
   "outputs": [
    {
     "data": {
      "text/plain": [
       "['Heartdisease.pkl']"
      ]
     },
     "execution_count": 57,
     "metadata": {},
     "output_type": "execute_result"
    }
   ],
   "source": [
    "\n",
    "#saving the model\n",
    "from sklearn.externals import joblib\n",
    "joblib.dump(lr_pred_new,'Heartdisease.pkl')"
   ]
  },
  {
   "cell_type": "code",
   "execution_count": null,
   "metadata": {},
   "outputs": [],
   "source": []
  }
 ],
 "metadata": {
  "kernelspec": {
   "display_name": "Python 3",
   "language": "python",
   "name": "python3"
  },
  "language_info": {
   "codemirror_mode": {
    "name": "ipython",
    "version": 3
   },
   "file_extension": ".py",
   "mimetype": "text/x-python",
   "name": "python",
   "nbconvert_exporter": "python",
   "pygments_lexer": "ipython3",
   "version": "3.7.6"
  }
 },
 "nbformat": 4,
 "nbformat_minor": 4
}
